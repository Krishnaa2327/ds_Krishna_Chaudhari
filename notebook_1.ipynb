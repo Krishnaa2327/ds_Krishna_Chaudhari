{
  "nbformat": 4,
  "nbformat_minor": 0,
  "metadata": {
    "colab": {
      "provenance": []
    },
    "kernelspec": {
      "name": "python3",
      "display_name": "Python 3"
    },
    "language_info": {
      "name": "python"
    }
  },
  "cells": [
    {
      "cell_type": "code",
      "execution_count": null,
      "metadata": {
        "colab": {
          "base_uri": "https://localhost:8080/"
        },
        "id": "gHAx3uG4I4II",
        "outputId": "9eb39e27-595a-44a9-e317-6f5ac37e85c3"
      },
      "outputs": [
        {
          "output_type": "stream",
          "name": "stdout",
          "text": [
            "Drive already mounted at /content/drive; to attempt to forcibly remount, call drive.mount(\"/content/drive\", force_remount=True).\n"
          ]
        }
      ],
      "source": [
        "import pandas as pd\n",
        "import matplotlib.pyplot as plt\n",
        "import seaborn as sns\n",
        "\n",
        "# Mount Google Drive to access files\n",
        "from google.colab import drive\n",
        "drive.mount('/content/drive')"
      ]
    },
    {
      "cell_type": "code",
      "source": [
        "# Load the Historical Trader Data\n",
        "trader_data_path = '/content/drive/MyDrive/ds_Krishna_Chaudhari/csv_files/historical_data.csv'\n",
        "trader_df = pd.read_csv(trader_data_path)\n",
        "print(\" Historical Trader Data \")\n",
        "\n",
        "# Display the first 5 rows to see the structure\n",
        "print(\"Head:\")\n",
        "print(trader_df.head())\n",
        "\n",
        "# Display a summary of the DataFrame, including data types and non-null counts\n",
        "print(\"\\nInfo:\")\n",
        "trader_df.info()\n",
        "\n",
        "# Display statistical summary for numerical columns\n",
        "print(\"\\nDescribe:\")\n",
        "print(trader_df.describe())"
      ],
      "metadata": {
        "colab": {
          "base_uri": "https://localhost:8080/"
        },
        "id": "r_qwFsueNQog",
        "outputId": "ebd917c1-1110-4b84-95de-bec3fd35c449"
      },
      "execution_count": null,
      "outputs": [
        {
          "output_type": "stream",
          "name": "stdout",
          "text": [
            " Historical Trader Data \n",
            "Head:\n",
            "                                      Account  Coin  Execution Price  \\\n",
            "0  0xae5eacaf9c6b9111fd53034a602c192a04e082ed  @107           7.9769   \n",
            "1  0xae5eacaf9c6b9111fd53034a602c192a04e082ed  @107           7.9800   \n",
            "2  0xae5eacaf9c6b9111fd53034a602c192a04e082ed  @107           7.9855   \n",
            "3  0xae5eacaf9c6b9111fd53034a602c192a04e082ed  @107           7.9874   \n",
            "4  0xae5eacaf9c6b9111fd53034a602c192a04e082ed  @107           7.9894   \n",
            "\n",
            "   Size Tokens  Size USD Side     Timestamp IST  Start Position Direction  \\\n",
            "0       986.87   7872.16  BUY  02-12-2024 22:50        0.000000       Buy   \n",
            "1        16.00    127.68  BUY  02-12-2024 22:50      986.524596       Buy   \n",
            "2       144.09   1150.63  BUY  02-12-2024 22:50     1002.518996       Buy   \n",
            "3       142.98   1142.04  BUY  02-12-2024 22:50     1146.558564       Buy   \n",
            "4         8.73     69.75  BUY  02-12-2024 22:50     1289.488521       Buy   \n",
            "\n",
            "   Closed PnL                                   Transaction Hash     Order ID  \\\n",
            "0         0.0  0xec09451986a1874e3a980418412fcd0201f500c95bac...  52017706630   \n",
            "1         0.0  0xec09451986a1874e3a980418412fcd0201f500c95bac...  52017706630   \n",
            "2         0.0  0xec09451986a1874e3a980418412fcd0201f500c95bac...  52017706630   \n",
            "3         0.0  0xec09451986a1874e3a980418412fcd0201f500c95bac...  52017706630   \n",
            "4         0.0  0xec09451986a1874e3a980418412fcd0201f500c95bac...  52017706630   \n",
            "\n",
            "   Crossed       Fee      Trade ID     Timestamp  \n",
            "0     True  0.345404  8.950000e+14  1.730000e+12  \n",
            "1     True  0.005600  4.430000e+14  1.730000e+12  \n",
            "2     True  0.050431  6.600000e+14  1.730000e+12  \n",
            "3     True  0.050043  1.080000e+15  1.730000e+12  \n",
            "4     True  0.003055  1.050000e+15  1.730000e+12  \n",
            "\n",
            "Info:\n",
            "<class 'pandas.core.frame.DataFrame'>\n",
            "RangeIndex: 211224 entries, 0 to 211223\n",
            "Data columns (total 16 columns):\n",
            " #   Column            Non-Null Count   Dtype  \n",
            "---  ------            --------------   -----  \n",
            " 0   Account           211224 non-null  object \n",
            " 1   Coin              211224 non-null  object \n",
            " 2   Execution Price   211224 non-null  float64\n",
            " 3   Size Tokens       211224 non-null  float64\n",
            " 4   Size USD          211224 non-null  float64\n",
            " 5   Side              211224 non-null  object \n",
            " 6   Timestamp IST     211224 non-null  object \n",
            " 7   Start Position    211224 non-null  float64\n",
            " 8   Direction         211224 non-null  object \n",
            " 9   Closed PnL        211224 non-null  float64\n",
            " 10  Transaction Hash  211224 non-null  object \n",
            " 11  Order ID          211224 non-null  int64  \n",
            " 12  Crossed           211224 non-null  bool   \n",
            " 13  Fee               211224 non-null  float64\n",
            " 14  Trade ID          211224 non-null  float64\n",
            " 15  Timestamp         211224 non-null  float64\n",
            "dtypes: bool(1), float64(8), int64(1), object(6)\n",
            "memory usage: 24.4+ MB\n",
            "\n",
            "Describe:\n",
            "       Execution Price   Size Tokens      Size USD  Start Position  \\\n",
            "count    211224.000000  2.112240e+05  2.112240e+05    2.112240e+05   \n",
            "mean      11414.723350  4.623365e+03  5.639451e+03   -2.994625e+04   \n",
            "std       29447.654868  1.042729e+05  3.657514e+04    6.738074e+05   \n",
            "min           0.000005  8.740000e-07  0.000000e+00   -1.433463e+07   \n",
            "25%           4.854700  2.940000e+00  1.937900e+02   -3.762311e+02   \n",
            "50%          18.280000  3.200000e+01  5.970450e+02    8.472793e+01   \n",
            "75%         101.580000  1.879025e+02  2.058960e+03    9.337278e+03   \n",
            "max      109004.000000  1.582244e+07  3.921431e+06    3.050948e+07   \n",
            "\n",
            "          Closed PnL      Order ID            Fee      Trade ID     Timestamp  \n",
            "count  211224.000000  2.112240e+05  211224.000000  2.112240e+05  2.112240e+05  \n",
            "mean       48.749001  6.965388e+10       1.163967  5.628549e+14  1.737744e+12  \n",
            "std       919.164828  1.835753e+10       6.758854  3.257565e+14  8.689920e+09  \n",
            "min   -117990.104100  1.732711e+08      -1.175712  0.000000e+00  1.680000e+12  \n",
            "25%         0.000000  5.983853e+10       0.016121  2.810000e+14  1.740000e+12  \n",
            "50%         0.000000  7.442939e+10       0.089578  5.620000e+14  1.740000e+12  \n",
            "75%         5.792797  8.335543e+10       0.393811  8.460000e+14  1.740000e+12  \n",
            "max    135329.090100  9.014923e+10     837.471593  1.130000e+15  1.750000e+12  \n"
          ]
        }
      ]
    },
    {
      "cell_type": "code",
      "source": [
        "# --- Load the Fear & Greed Data ---\n",
        "sentiment_data_path = '/content/drive/MyDrive/ds_Krishna_Chaudhari/csv_files/fear_greed_index.csv'\n",
        "sentiment_df = pd.read_csv(sentiment_data_path)\n",
        "print(\"\\n Bitcoin Market Sentiment Data \")\n",
        "\n",
        "# Display the first 5 rows\n",
        "print(\"Head:\")\n",
        "print(sentiment_df.head())\n",
        "\n",
        "# Display a summary of the DataFrame\n",
        "print(\"\\nInfo:\")\n",
        "sentiment_df.info()\n",
        "\n",
        "# Display unique values in the 'classification' column (CORRECTED)\n",
        "print(\"\\nUnique Classifications:\")\n",
        "print(sentiment_df['classification'].unique())"
      ],
      "metadata": {
        "colab": {
          "base_uri": "https://localhost:8080/"
        },
        "id": "zEvRSq2RNuc-",
        "outputId": "d9c43ab4-a255-4753-99ff-c0d797cec54a"
      },
      "execution_count": null,
      "outputs": [
        {
          "output_type": "stream",
          "name": "stdout",
          "text": [
            "\n",
            " Bitcoin Market Sentiment Data \n",
            "Head:\n",
            "    timestamp  value classification        date\n",
            "0  1517463000     30           Fear  2018-02-01\n",
            "1  1517549400     15   Extreme Fear  2018-02-02\n",
            "2  1517635800     40           Fear  2018-02-03\n",
            "3  1517722200     24   Extreme Fear  2018-02-04\n",
            "4  1517808600     11   Extreme Fear  2018-02-05\n",
            "\n",
            "Info:\n",
            "<class 'pandas.core.frame.DataFrame'>\n",
            "RangeIndex: 2644 entries, 0 to 2643\n",
            "Data columns (total 4 columns):\n",
            " #   Column          Non-Null Count  Dtype \n",
            "---  ------          --------------  ----- \n",
            " 0   timestamp       2644 non-null   int64 \n",
            " 1   value           2644 non-null   int64 \n",
            " 2   classification  2644 non-null   object\n",
            " 3   date            2644 non-null   object\n",
            "dtypes: int64(2), object(2)\n",
            "memory usage: 82.8+ KB\n",
            "\n",
            "Unique Classifications:\n",
            "['Fear' 'Extreme Fear' 'Neutral' 'Greed' 'Extreme Greed']\n"
          ]
        }
      ]
    },
    {
      "cell_type": "markdown",
      "source": [
        "**Cleaning the Trader data**"
      ],
      "metadata": {
        "id": "ZYUaPZeLOzZY"
      }
    },
    {
      "cell_type": "code",
      "source": [
        "trader_df['time'] = pd.to_datetime(trader_df['Timestamp'], unit='ms')\n",
        "trader_df['Date'] = trader_df['time'].dt.date # Extract just the date part for merging\n",
        "\n",
        "# Define the list of columns to convert to numeric, using the correct names\n",
        "columns_to_convert = ['Execution Price', 'Size Tokens', 'Closed PnL']\n",
        "for col in columns_to_convert:\n",
        "    new_col_name = col.replace(' ', '_')\n",
        "    trader_df.rename(columns={col: new_col_name}, inplace=True)\n",
        "    trader_df[new_col_name] = pd.to_numeric(trader_df[new_col_name], errors='coerce')\n",
        "\n",
        "print(\"--- Trader Data Cleaned Info (Before Handling NaNs): ---\")\n",
        "trader_df.info()\n",
        "print(\"\\n\")\n",
        "\n",
        "# Convert the 'date' column to datetime objects\n",
        "sentiment_df['date'] = pd.to_datetime(sentiment_df['date'])\n",
        "sentiment_df['date'] = sentiment_df['date'].dt.date\n",
        "\n",
        "print(\"--- Sentiment Data Cleaned Info: ---\")\n",
        "sentiment_df.info()\n",
        "print(\"\\n\")\n",
        "\n",
        "print(f\"Number of rows in trader_df before dropping NaNs: {len(trader_df)}\")\n",
        "\n",
        "# Drop rows where 'Closed_PnL' or 'Size_Tokens' is missing\n",
        "trader_df.dropna(subset=['Closed_PnL', 'Size_Tokens'], inplace=True)\n",
        "\n",
        "print(f\"Number of rows in trader_df after dropping NaNs: {len(trader_df)}\")\n",
        "\n",
        "print(\"\\n--- Final check for missing values in trader_df: ---\")\n",
        "print(trader_df.isnull().sum())"
      ],
      "metadata": {
        "colab": {
          "base_uri": "https://localhost:8080/"
        },
        "id": "ng5fJDMlO7Cl",
        "outputId": "db19e5a0-331f-45de-e0e1-e4085c2e2934"
      },
      "execution_count": null,
      "outputs": [
        {
          "output_type": "stream",
          "name": "stdout",
          "text": [
            "--- Trader Data Cleaned Info (Before Handling NaNs): ---\n",
            "<class 'pandas.core.frame.DataFrame'>\n",
            "RangeIndex: 211224 entries, 0 to 211223\n",
            "Data columns (total 18 columns):\n",
            " #   Column            Non-Null Count   Dtype         \n",
            "---  ------            --------------   -----         \n",
            " 0   Account           211224 non-null  object        \n",
            " 1   Coin              211224 non-null  object        \n",
            " 2   Execution_Price   211224 non-null  float64       \n",
            " 3   Size_Tokens       211224 non-null  float64       \n",
            " 4   Size USD          211224 non-null  float64       \n",
            " 5   Side              211224 non-null  object        \n",
            " 6   Timestamp IST     211224 non-null  object        \n",
            " 7   Start Position    211224 non-null  float64       \n",
            " 8   Direction         211224 non-null  object        \n",
            " 9   Closed_PnL        211224 non-null  float64       \n",
            " 10  Transaction Hash  211224 non-null  object        \n",
            " 11  Order ID          211224 non-null  int64         \n",
            " 12  Crossed           211224 non-null  bool          \n",
            " 13  Fee               211224 non-null  float64       \n",
            " 14  Trade ID          211224 non-null  float64       \n",
            " 15  Timestamp         211224 non-null  float64       \n",
            " 16  time              211224 non-null  datetime64[ns]\n",
            " 17  Date              211224 non-null  object        \n",
            "dtypes: bool(1), datetime64[ns](1), float64(8), int64(1), object(7)\n",
            "memory usage: 27.6+ MB\n",
            "\n",
            "\n",
            "--- Sentiment Data Cleaned Info: ---\n",
            "<class 'pandas.core.frame.DataFrame'>\n",
            "RangeIndex: 2644 entries, 0 to 2643\n",
            "Data columns (total 4 columns):\n",
            " #   Column          Non-Null Count  Dtype \n",
            "---  ------          --------------  ----- \n",
            " 0   timestamp       2644 non-null   int64 \n",
            " 1   value           2644 non-null   int64 \n",
            " 2   classification  2644 non-null   object\n",
            " 3   date            2644 non-null   object\n",
            "dtypes: int64(2), object(2)\n",
            "memory usage: 82.8+ KB\n",
            "\n",
            "\n",
            "Number of rows in trader_df before dropping NaNs: 211224\n",
            "Number of rows in trader_df after dropping NaNs: 211224\n",
            "\n",
            "--- Final check for missing values in trader_df: ---\n",
            "Account             0\n",
            "Coin                0\n",
            "Execution_Price     0\n",
            "Size_Tokens         0\n",
            "Size USD            0\n",
            "Side                0\n",
            "Timestamp IST       0\n",
            "Start Position      0\n",
            "Direction           0\n",
            "Closed_PnL          0\n",
            "Transaction Hash    0\n",
            "Order ID            0\n",
            "Crossed             0\n",
            "Fee                 0\n",
            "Trade ID            0\n",
            "Timestamp           0\n",
            "time                0\n",
            "Date                0\n",
            "dtype: int64\n"
          ]
        }
      ]
    },
    {
      "cell_type": "markdown",
      "source": [
        "**Clean the Sentiment DataFrame**"
      ],
      "metadata": {
        "id": "gAvSpOjpTAVP"
      }
    },
    {
      "cell_type": "code",
      "source": [
        "# Convert the 'date' column to datetime objects.\n",
        "sentiment_df['date'] = pd.to_datetime(sentiment_df['date'])\n",
        "sentiment_df['date'] = sentiment_df['date'].dt.date # Extract just the date part\n",
        "\n",
        "print(\"\\n--- Sentiment Data Cleaned Info: ---\")\n",
        "sentiment_df.info()\n",
        "\n",
        "print(\"\\n--- Cleaned Sentiment Data Head: ---\")\n",
        "print(sentiment_df.head())"
      ],
      "metadata": {
        "colab": {
          "base_uri": "https://localhost:8080/"
        },
        "id": "oHTm97J-TD8r",
        "outputId": "54860cff-37b2-47e0-9582-f4da7bbbd16a"
      },
      "execution_count": null,
      "outputs": [
        {
          "output_type": "stream",
          "name": "stdout",
          "text": [
            "\n",
            "--- Sentiment Data Cleaned Info: ---\n",
            "<class 'pandas.core.frame.DataFrame'>\n",
            "RangeIndex: 2644 entries, 0 to 2643\n",
            "Data columns (total 4 columns):\n",
            " #   Column          Non-Null Count  Dtype \n",
            "---  ------          --------------  ----- \n",
            " 0   timestamp       2644 non-null   int64 \n",
            " 1   value           2644 non-null   int64 \n",
            " 2   classification  2644 non-null   object\n",
            " 3   date            2644 non-null   object\n",
            "dtypes: int64(2), object(2)\n",
            "memory usage: 82.8+ KB\n",
            "\n",
            "--- Cleaned Sentiment Data Head: ---\n",
            "    timestamp  value classification        date\n",
            "0  1517463000     30           Fear  2018-02-01\n",
            "1  1517549400     15   Extreme Fear  2018-02-02\n",
            "2  1517635800     40           Fear  2018-02-03\n",
            "3  1517722200     24   Extreme Fear  2018-02-04\n",
            "4  1517808600     11   Extreme Fear  2018-02-05\n"
          ]
        }
      ]
    },
    {
      "cell_type": "markdown",
      "source": [
        "**Merge the Trader and Sentiment DataFrames**"
      ],
      "metadata": {
        "id": "LMuO8XdiTU1L"
      }
    },
    {
      "cell_type": "code",
      "source": [
        "# The 'left_on' parameter uses the 'Date' column from trader_df.\n",
        "# The 'right_on' parameter uses the 'date' column from sentiment_df.\n",
        "merged_df = pd.merge(trader_df, sentiment_df, left_on='Date', right_on='date', how='inner')\n",
        "\n",
        "# We can drop the redundant 'date' column from the sentiment data, as we already have 'Date'.\n",
        "merged_df.drop('date', axis=1, inplace=True)\n",
        "\n",
        "print(\"--- Merged DataFrame Info ---\")\n",
        "merged_df.info()\n",
        "\n",
        "print(\"\\n--- Merged DataFrame Head ---\")\n",
        "print(merged_df.head())"
      ],
      "metadata": {
        "colab": {
          "base_uri": "https://localhost:8080/"
        },
        "id": "m_6vOGrJTWoR",
        "outputId": "dd8444ea-c61e-48e6-a0fc-a4a0fe9de07a"
      },
      "execution_count": null,
      "outputs": [
        {
          "output_type": "stream",
          "name": "stdout",
          "text": [
            "--- Merged DataFrame Info ---\n",
            "<class 'pandas.core.frame.DataFrame'>\n",
            "RangeIndex: 184263 entries, 0 to 184262\n",
            "Data columns (total 21 columns):\n",
            " #   Column            Non-Null Count   Dtype         \n",
            "---  ------            --------------   -----         \n",
            " 0   Account           184263 non-null  object        \n",
            " 1   Coin              184263 non-null  object        \n",
            " 2   Execution_Price   184263 non-null  float64       \n",
            " 3   Size_Tokens       184263 non-null  float64       \n",
            " 4   Size USD          184263 non-null  float64       \n",
            " 5   Side              184263 non-null  object        \n",
            " 6   Timestamp IST     184263 non-null  object        \n",
            " 7   Start Position    184263 non-null  float64       \n",
            " 8   Direction         184263 non-null  object        \n",
            " 9   Closed_PnL        184263 non-null  float64       \n",
            " 10  Transaction Hash  184263 non-null  object        \n",
            " 11  Order ID          184263 non-null  int64         \n",
            " 12  Crossed           184263 non-null  bool          \n",
            " 13  Fee               184263 non-null  float64       \n",
            " 14  Trade ID          184263 non-null  float64       \n",
            " 15  Timestamp         184263 non-null  float64       \n",
            " 16  time              184263 non-null  datetime64[ns]\n",
            " 17  Date              184263 non-null  object        \n",
            " 18  timestamp         184263 non-null  int64         \n",
            " 19  value             184263 non-null  int64         \n",
            " 20  classification    184263 non-null  object        \n",
            "dtypes: bool(1), datetime64[ns](1), float64(8), int64(3), object(8)\n",
            "memory usage: 28.3+ MB\n",
            "\n",
            "--- Merged DataFrame Head ---\n",
            "                                      Account  Coin  Execution_Price  \\\n",
            "0  0xae5eacaf9c6b9111fd53034a602c192a04e082ed  @107           7.9769   \n",
            "1  0xae5eacaf9c6b9111fd53034a602c192a04e082ed  @107           7.9800   \n",
            "2  0xae5eacaf9c6b9111fd53034a602c192a04e082ed  @107           7.9855   \n",
            "3  0xae5eacaf9c6b9111fd53034a602c192a04e082ed  @107           7.9874   \n",
            "4  0xae5eacaf9c6b9111fd53034a602c192a04e082ed  @107           7.9894   \n",
            "\n",
            "   Size_Tokens  Size USD Side     Timestamp IST  Start Position Direction  \\\n",
            "0       986.87   7872.16  BUY  02-12-2024 22:50        0.000000       Buy   \n",
            "1        16.00    127.68  BUY  02-12-2024 22:50      986.524596       Buy   \n",
            "2       144.09   1150.63  BUY  02-12-2024 22:50     1002.518996       Buy   \n",
            "3       142.98   1142.04  BUY  02-12-2024 22:50     1146.558564       Buy   \n",
            "4         8.73     69.75  BUY  02-12-2024 22:50     1289.488521       Buy   \n",
            "\n",
            "   Closed_PnL  ...     Order ID  Crossed       Fee      Trade ID  \\\n",
            "0         0.0  ...  52017706630     True  0.345404  8.950000e+14   \n",
            "1         0.0  ...  52017706630     True  0.005600  4.430000e+14   \n",
            "2         0.0  ...  52017706630     True  0.050431  6.600000e+14   \n",
            "3         0.0  ...  52017706630     True  0.050043  1.080000e+15   \n",
            "4         0.0  ...  52017706630     True  0.003055  1.050000e+15   \n",
            "\n",
            "      Timestamp                time        Date   timestamp  value  \\\n",
            "0  1.730000e+12 2024-10-27 03:33:20  2024-10-27  1730007000     74   \n",
            "1  1.730000e+12 2024-10-27 03:33:20  2024-10-27  1730007000     74   \n",
            "2  1.730000e+12 2024-10-27 03:33:20  2024-10-27  1730007000     74   \n",
            "3  1.730000e+12 2024-10-27 03:33:20  2024-10-27  1730007000     74   \n",
            "4  1.730000e+12 2024-10-27 03:33:20  2024-10-27  1730007000     74   \n",
            "\n",
            "   classification  \n",
            "0           Greed  \n",
            "1           Greed  \n",
            "2           Greed  \n",
            "3           Greed  \n",
            "4           Greed  \n",
            "\n",
            "[5 rows x 21 columns]\n"
          ]
        }
      ]
    },
    {
      "cell_type": "markdown",
      "source": [
        "**Analyze Profitability and Volume by Sentiment**"
      ],
      "metadata": {
        "id": "GdcK0E2cT9-c"
      }
    },
    {
      "cell_type": "code",
      "source": [
        "# Group by the 'classification' column\n",
        "sentiment_groups = merged_df.groupby('classification')\n",
        "\n",
        "# Calculate the average profit (PnL) for each sentiment group\n",
        "average_pnl = sentiment_groups['Closed_PnL'].mean()\n",
        "print(\"--- Average PnL by Market Sentiment ---\")\n",
        "print(average_pnl)\n",
        "print(\"\\n\")\n",
        "\n",
        "# Calculate the total profit (PnL) for each sentiment group\n",
        "total_pnl = sentiment_groups['Closed_PnL'].sum()\n",
        "print(\"--- Total PnL by Market Sentiment ---\")\n",
        "print(total_pnl)\n",
        "print(\"\\n\")\n",
        "\n",
        "# Calculate the average trade size (volume) for each sentiment group\n",
        "average_volume = sentiment_groups['Size_Tokens'].mean()\n",
        "print(\"--- Average Trading Volume (Size in Tokens) by Market Sentiment ---\")\n",
        "print(average_volume)"
      ],
      "metadata": {
        "colab": {
          "base_uri": "https://localhost:8080/"
        },
        "id": "nIKqyg3lT_TR",
        "outputId": "4282aa56-b816-4d50-d147-21ede55a6536"
      },
      "execution_count": null,
      "outputs": [
        {
          "output_type": "stream",
          "name": "stdout",
          "text": [
            "--- Average PnL by Market Sentiment ---\n",
            "classification\n",
            "Extreme Greed    25.418772\n",
            "Fear             50.047622\n",
            "Greed            87.894859\n",
            "Neutral          22.229713\n",
            "Name: Closed_PnL, dtype: float64\n",
            "\n",
            "\n",
            "--- Total PnL by Market Sentiment ---\n",
            "classification\n",
            "Extreme Greed    1.769655e+05\n",
            "Fear             6.699925e+06\n",
            "Greed            3.189617e+06\n",
            "Neutral          1.587424e+05\n",
            "Name: Closed_PnL, dtype: float64\n",
            "\n",
            "\n",
            "--- Average Trading Volume (Size in Tokens) by Market Sentiment ---\n",
            "classification\n",
            "Extreme Greed    48736.443323\n",
            "Fear              3071.523165\n",
            "Greed             2232.117751\n",
            "Neutral           1967.302964\n",
            "Name: Size_Tokens, dtype: float64\n"
          ]
        }
      ]
    },
    {
      "cell_type": "markdown",
      "source": [
        "**Create and Save Visualizations**"
      ],
      "metadata": {
        "id": "NPLwi_D5UKxD"
      }
    },
    {
      "cell_type": "code",
      "source": [
        "import os\n",
        "import matplotlib.pyplot as plt\n",
        "import seaborn as sns\n",
        "\n",
        "project_path = '/content/drive/MyDrive/ds_Krishna_Chaudhari/'\n",
        "outputs_path = os.path.join(project_path, 'outputs')\n",
        "os.makedirs(outputs_path, exist_ok=True)\n",
        "\n",
        "# Set a style for the plots\n",
        "sns.set_style(\"whitegrid\")\n",
        "\n",
        "# 1. Bar Chart for Average PnL\n",
        "plt.figure(figsize=(10, 6))\n",
        "sns.barplot(x=average_pnl.index, y=average_pnl.values, hue=average_pnl.index, palette='viridis', legend=False)\n",
        "plt.title('Average Trader Profit (PnL) by Market Sentiment', fontsize=16)\n",
        "plt.xlabel('Market Sentiment', fontsize=12)\n",
        "plt.ylabel('Average Closed PnL', fontsize=12)\n",
        "plt.xticks(rotation=45)\n",
        "\n",
        "pnl_plot_path = os.path.join(outputs_path, 'average_pnl_by_sentiment.png')\n",
        "plt.savefig(pnl_plot_path)\n",
        "print(f\"Saved plot to: {pnl_plot_path}\")\n",
        "plt.show()\n",
        "\n",
        "# 2. Bar Chart for Average Trading Volume\n",
        "plt.figure(figsize=(10, 6))\n",
        "sns.barplot(x=average_volume.index, y=average_volume.values, hue=average_volume.index, palette='plasma', legend=False)\n",
        "plt.title('Average Trading Volume by Market Sentiment', fontsize=16)\n",
        "plt.xlabel('Market Sentiment', fontsize=12)\n",
        "plt.ylabel('Average Trade Size (Tokens)', fontsize=12)\n",
        "plt.xticks(rotation=45)\n",
        "\n",
        "volume_plot_path = os.path.join(outputs_path, 'average_volume_by_sentiment.png')\n",
        "plt.savefig(volume_plot_path)\n",
        "print(f\"Saved plot to: {volume_plot_path}\")\n",
        "plt.show()"
      ],
      "metadata": {
        "colab": {
          "base_uri": "https://localhost:8080/",
          "height": 1000
        },
        "id": "LCtQg_wRUMED",
        "outputId": "4ce0e223-6b11-4edd-a488-d2958789af30"
      },
      "execution_count": 17,
      "outputs": [
        {
          "output_type": "stream",
          "name": "stdout",
          "text": [
            "Saved plot to: /content/drive/MyDrive/ds_Krishna_Chaudhari/outputs/average_pnl_by_sentiment.png\n"
          ]
        },
        {
          "output_type": "display_data",
          "data": {
            "text/plain": [
              "<Figure size 1000x600 with 1 Axes>"
            ],
            "image/png": "[encoded data removed]"
          },
          "metadata": {}
        },
        {
          "output_type": "stream",
          "name": "stdout",
          "text": [
            "Saved plot to: /content/drive/MyDrive/ds_Krishna_Chaudhari/outputs/average_volume_by_sentiment.png\n"
          ]
        },
        {
          "output_type": "display_data",
          "data": {
            "text/plain": [
              "<Figure size 1000x600 with 1 Axes>"
            ],
            "image/png": "[encoded data removed]"
          },
          "metadata": {}
        }
      ]
    }
  ]
}